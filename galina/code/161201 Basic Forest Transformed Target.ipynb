{
 "cells": [
  {
   "cell_type": "code",
   "execution_count": 8,
   "metadata": {
    "collapsed": false
   },
   "outputs": [],
   "source": [
    "import pandas as pd\n",
    "import numpy as np\n",
    "\n",
    "from sklearn.ensemble import RandomForestRegressor"
   ]
  },
  {
   "cell_type": "code",
   "execution_count": 9,
   "metadata": {
    "collapsed": false
   },
   "outputs": [],
   "source": [
    "name = '161201 Basic Forest Transformed Target'\n",
    "\n",
    "train_X = pd.read_csv('../data/train_X.csv')\n",
    "train_Y = pd.read_csv('../data/train_Y_log_200.csv')\n",
    "test_X = pd.read_csv('../data/test_X.csv')\n",
    "\n",
    "# ids are not predictors\n",
    "test_id = test_X['id']\n",
    "train_X.drop('id', axis = 1, inplace = True)\n",
    "test_X.drop('id', axis = 1, inplace = True)"
   ]
  },
  {
   "cell_type": "code",
   "execution_count": 10,
   "metadata": {
    "collapsed": false
   },
   "outputs": [],
   "source": [
    "params = {\n",
    "    'n_estimators'             : 10,     # number of trees; default = 10\n",
    "    'criterion'                : 'mse',  # metrics; default = 'mse'\n",
    "    'max_features'             : 'auto', # number of features for best split; default = 'auto\n",
    "                                         # int    = number of features\n",
    "                                         # float  = percentage of features\n",
    "                                         # 'auto' = n_features\n",
    "                                         # 'sqrt' = sqrt(n_features)\n",
    "                                         # 'log2' = log2(n_features)\n",
    "                                         # None   = n-features\n",
    "                                         # (the search for a split does not stop until at least one valid\n",
    "                                         # partition of the node samples is found, even if it requires to\n",
    "                                         # effectively inspect more than max_features features)\n",
    "    'max_depth'                : None,   # integer or None;                   default = None\n",
    "                                         # if None, search continues until all leaves are pure or\n",
    "                                         # have < min_saples_split\n",
    "    'min_samples_split'        : 2,      # min number of samples for split; default = 2\n",
    "                                         # int   = minimal number of samples\n",
    "                                         # float = minimal percentage of samples\n",
    "    'min_samples_leaf'         : 1,      # same as above, but for leaves; default = 1\n",
    "    'min_weight_fraction_leaf' : 0,      # min weighted fraction of weights in leaf; default = 0\n",
    "                                         # when no weights provided, all samples have equal weight\n",
    "    'max_leaf_nodes'           : None ,  # grow trees with max_leaf_nodes in best-first fashion; default = None\n",
    "                                         # best nodes are defined as relative reduction in impurity\n",
    "    'min_impurity_split'       : 1e-7,   # threshold for early stopping; default = 1e-7\n",
    "    'bootstrap'                : True,   # use bootstrap or not; default = True\n",
    "    'oob_score'                : False,  # use out-of-bag samples to estimate R^2 on unseen data; default = False\n",
    "    'n_jobs'                   : 3,      # number of parallel jobs; default = 1\n",
    "                                         # if -1, then uses number of cores\n",
    "    'random_state'             : 42,     # randomiser; default = None\n",
    "                                         # int                 = seed used by random number generator\n",
    "                                         # np.random.RandoStae = random number generator\n",
    "                                         # None                = RandomState used by np.random\n",
    "    'verbose'                  : 5,     # int, level of verbosity; default = 0\n",
    "    'warm_start'               : False,  # if True, reuse previous solution and add estimators; default = False\n",
    "}"
   ]
  },
  {
   "cell_type": "code",
   "execution_count": 11,
   "metadata": {
    "collapsed": false
   },
   "outputs": [
    {
     "name": "stderr",
     "output_type": "stream",
     "text": [
      "/usr/local/lib/python2.7/dist-packages/ipykernel/__main__.py:3: DataConversionWarning: A column-vector y was passed when a 1d array was expected. Please change the shape of y to (n_samples,), for example using ravel().\n",
      "  app.launch_new_instance()\n"
     ]
    },
    {
     "name": "stdout",
     "output_type": "stream",
     "text": [
      "building tree 1 of 10building tree 3 of 10\n",
      "building tree 2 of 10\n",
      "\n",
      "building tree 4 of 10\n",
      "building tree 5 of 10\n",
      "building tree 6 of 10\n",
      "building tree 7 of 10\n",
      "building tree 8 of 10\n",
      "building tree 9 of 10\n",
      "building tree 10 of 10\n"
     ]
    },
    {
     "name": "stderr",
     "output_type": "stream",
     "text": [
      "[Parallel(n_jobs=3)]: Done   8 out of  10 | elapsed:   39.4s remaining:    9.9s\n",
      "[Parallel(n_jobs=3)]: Done  10 out of  10 | elapsed:   47.0s finished\n"
     ]
    }
   ],
   "source": [
    "# clf = RandomForestRegressor(n_estimators = 10, criterion = 'mse')\n",
    "reg = RandomForestRegressor(**params)\n",
    "reg = reg.fit(train_X, train_Y)"
   ]
  },
  {
   "cell_type": "code",
   "execution_count": 15,
   "metadata": {
    "collapsed": false
   },
   "outputs": [
    {
     "name": "stderr",
     "output_type": "stream",
     "text": [
      "[Parallel(n_jobs=3)]: Done   8 out of  10 | elapsed:    0.4s remaining:    0.1s\n",
      "[Parallel(n_jobs=3)]: Done  10 out of  10 | elapsed:    0.4s finished\n"
     ]
    }
   ],
   "source": [
    "submission = reg.predict(test_X)\n",
    "submission = np.exp(submission) - 200\n",
    "\n",
    "submission = pd.DataFrame({'id' : test_id, 'loss' : submission})\n",
    "submission.to_csv('../submissions/' + name + '.csv', index = False)"
   ]
  },
  {
   "cell_type": "code",
   "execution_count": null,
   "metadata": {
    "collapsed": true
   },
   "outputs": [],
   "source": []
  }
 ],
 "metadata": {
  "kernelspec": {
   "display_name": "Python 2",
   "language": "python",
   "name": "python2"
  },
  "language_info": {
   "codemirror_mode": {
    "name": "ipython",
    "version": 2
   },
   "file_extension": ".py",
   "mimetype": "text/x-python",
   "name": "python",
   "nbconvert_exporter": "python",
   "pygments_lexer": "ipython2",
   "version": "2.7.12"
  }
 },
 "nbformat": 4,
 "nbformat_minor": 1
}
